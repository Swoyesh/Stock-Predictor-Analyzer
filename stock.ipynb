{
 "cells": [
  {
   "cell_type": "code",
   "execution_count": 21,
   "metadata": {},
   "outputs": [],
   "source": [
    "import pandas as pd\n",
    "import numpy as np\n",
    "import matplotlib.pyplot as plt\n",
    "import seaborn as sns"
   ]
  },
  {
   "cell_type": "code",
   "execution_count": 22,
   "metadata": {},
   "outputs": [
    {
     "name": "stdout",
     "output_type": "stream",
     "text": [
      "   Nasdaq Traded Symbol                                      Security Name  \\\n",
      "0              Y      A            Agilent Technologies, Inc. Common Stock   \n",
      "1              Y     AA                    Alcoa Corporation Common Stock    \n",
      "2              Y   AAAU                       Perth Mint Physical Gold ETF   \n",
      "3              Y   AACG  ATA Creativity Global - American Depositary Sh...   \n",
      "4              Y   AADR                AdvisorShares Dorsey Wright ADR ETF   \n",
      "5              Y    AAL       American Airlines Group, Inc. - Common Stock   \n",
      "6              Y   AAMC               Altisource Asset Management Corp Com   \n",
      "7              Y   AAME       Atlantic American Corporation - Common Stock   \n",
      "8              Y    AAN                         Aaron's, Inc. Common Stock   \n",
      "9              Y   AAOI       Applied Optoelectronics, Inc. - Common Stock   \n",
      "10             Y   AAON                          AAON, Inc. - Common Stock   \n",
      "11             Y    AAP  Advance Auto Parts Inc Advance Auto Parts Inc W/I   \n",
      "12             Y   AAPL                          Apple Inc. - Common Stock   \n",
      "13             Y    AAT           American Assets Trust, Inc. Common Stock   \n",
      "14             Y    AAU               Almaden Minerals, Ltd. Common Shares   \n",
      "15             Y   AAWW        Atlas Air Worldwide Holdings - Common Stock   \n",
      "16             Y   AAXJ  iShares MSCI All Country Asia ex Japan Index Fund   \n",
      "17             Y   AAXN               Axon Enterprise, Inc. - Common Stock   \n",
      "18             Y     AB              AllianceBernstein Holding L.P.  Units   \n",
      "19             Y    ABB                               ABB Ltd Common Stock   \n",
      "20             Y   ABBV                           AbbVie Inc. Common Stock   \n",
      "21             Y    ABC         AmerisourceBergen Corporation Common Stock   \n",
      "22             Y   ABCB                      Ameris Bancorp - Common Stock   \n",
      "23             Y   ABEO            Abeona Therapeutics Inc. - Common Stock   \n",
      "24             Y   ABEQ                         Absolute Core Strategy ETF   \n",
      "25             Y   ABEV  Ambev S.A. American Depositary Shares (Each re...   \n",
      "26             Y    ABG           Asbury Automotive Group Inc Common Stock   \n",
      "27             Y   ABIO                ARCA biopharma, Inc. - Common Stock   \n",
      "28             Y    ABM           ABM Industries Incorporated Common Stock   \n",
      "29             Y   ABMD                       ABIOMED, Inc. - Common Stock   \n",
      "30             Y    ABR                    Arbor Realty Trust Common Stock   \n",
      "31             Y    ABT                   Abbott Laboratories Common Stock   \n",
      "32             Y   ABTX         Allegiance Bancshares, Inc. - Common Stock   \n",
      "33             Y   ABUS       Arbutus Biopharma Corporation - Common Stock   \n",
      "34             Y     AC        Associated Capital Group, Inc. Common Stock   \n",
      "35             Y    ACA                         Arcosa, Inc. Common Stock    \n",
      "36             Y   ACAD         ACADIA Pharmaceuticals Inc. - Common Stock   \n",
      "37             Y   ACAM  Acamar Partners Acquisition Corp. - Class A Co...   \n",
      "38             Y  ACAMU          Acamar Partners Acquisition Corp. - Units   \n",
      "39             Y    ACB                 Aurora Cannabis Inc. Common Shares   \n",
      "40             Y   ACBI   Atlantic Capital Bancshares, Inc. - Common Stock   \n",
      "41             Y    ACC       American Campus Communities Inc Common Stock   \n",
      "42             Y   ACCO               Acco Brands Corporation Common Stock   \n",
      "43             Y   ACEL                         Accel Entertainment, Inc.    \n",
      "44             Y   ACER              Acer Therapeutics Inc. - Common Stock   \n",
      "45             Y   ACES                              ALPS Clean Energy ETF   \n",
      "46             Y   ACGL             Arch Capital Group Ltd. - Common Stock   \n",
      "47             Y  ACGLO  Arch Capital Group Ltd. - Depositary Shares Ea...   \n",
      "48             Y  ACGLP  Arch Capital Group Ltd. - Depositary Shares Re...   \n",
      "49             Y    ACH  Aluminum Corporation of China Limited American...   \n",
      "\n",
      "   Listing Exchange Market Category ETF  Round Lot Size Test Issue  \\\n",
      "0                 N                   N           100.0          N   \n",
      "1                 N                   N           100.0          N   \n",
      "2                 P                   Y           100.0          N   \n",
      "3                 Q               G   N           100.0          N   \n",
      "4                 P                   Y           100.0          N   \n",
      "5                 Q               Q   N           100.0          N   \n",
      "6                 A                   N           100.0          N   \n",
      "7                 Q               G   N           100.0          N   \n",
      "8                 N                   N           100.0          N   \n",
      "9                 Q               G   N           100.0          N   \n",
      "10                Q               Q   N           100.0          N   \n",
      "11                N                   N           100.0          N   \n",
      "12                Q               Q   N           100.0          N   \n",
      "13                N                   N           100.0          N   \n",
      "14                A                   N           100.0          N   \n",
      "15                Q               Q   N           100.0          N   \n",
      "16                Q               G   Y           100.0          N   \n",
      "17                Q               Q   N           100.0          N   \n",
      "18                N                   N           100.0          N   \n",
      "19                N                   N           100.0          N   \n",
      "20                N                   N           100.0          N   \n",
      "21                N                   N           100.0          N   \n",
      "22                Q               Q   N           100.0          N   \n",
      "23                Q               S   N           100.0          N   \n",
      "24                P                   Y           100.0          N   \n",
      "25                N                   N           100.0          N   \n",
      "26                N                   N           100.0          N   \n",
      "27                Q               S   N           100.0          N   \n",
      "28                N                   N           100.0          N   \n",
      "29                Q               Q   N           100.0          N   \n",
      "30                N                   N           100.0          N   \n",
      "31                N                   N           100.0          N   \n",
      "32                Q               G   N           100.0          N   \n",
      "33                Q               Q   N           100.0          N   \n",
      "34                N                   N           100.0          N   \n",
      "35                N                   N           100.0          N   \n",
      "36                Q               Q   N           100.0          N   \n",
      "37                Q               S   N           100.0          N   \n",
      "38                Q               S   N           100.0          N   \n",
      "39                N                   N           100.0          N   \n",
      "40                Q               Q   N           100.0          N   \n",
      "41                N                   N           100.0          N   \n",
      "42                N                   N           100.0          N   \n",
      "43                N                   N           100.0          N   \n",
      "44                Q               S   N           100.0          N   \n",
      "45                Z                   Y           100.0          N   \n",
      "46                Q               Q   N           100.0          N   \n",
      "47                Q               Q   N           100.0          N   \n",
      "48                Q               Q   N           100.0          N   \n",
      "49                N                   N           100.0          N   \n",
      "\n",
      "   Financial Status CQS Symbol NASDAQ Symbol NextShares  \n",
      "0               NaN          A             A          N  \n",
      "1               NaN         AA            AA          N  \n",
      "2               NaN       AAAU          AAAU          N  \n",
      "3                 N        NaN          AACG          N  \n",
      "4               NaN       AADR          AADR          N  \n",
      "5                 N        NaN           AAL          N  \n",
      "6               NaN       AAMC          AAMC          N  \n",
      "7                 N        NaN          AAME          N  \n",
      "8               NaN        AAN           AAN          N  \n",
      "9                 N        NaN          AAOI          N  \n",
      "10                N        NaN          AAON          N  \n",
      "11              NaN        AAP           AAP          N  \n",
      "12                N        NaN          AAPL          N  \n",
      "13              NaN        AAT           AAT          N  \n",
      "14              NaN        AAU           AAU          N  \n",
      "15                N        NaN          AAWW          N  \n",
      "16                N        NaN          AAXJ          N  \n",
      "17                N        NaN          AAXN          N  \n",
      "18              NaN         AB            AB          N  \n",
      "19              NaN        ABB           ABB          N  \n",
      "20              NaN       ABBV          ABBV          N  \n",
      "21              NaN        ABC           ABC          N  \n",
      "22                N        NaN          ABCB          N  \n",
      "23                N        NaN          ABEO          N  \n",
      "24              NaN       ABEQ          ABEQ          N  \n",
      "25              NaN       ABEV          ABEV          N  \n",
      "26              NaN        ABG           ABG          N  \n",
      "27                N        NaN          ABIO          N  \n",
      "28              NaN        ABM           ABM          N  \n",
      "29                N        NaN          ABMD          N  \n",
      "30              NaN        ABR           ABR          N  \n",
      "31              NaN        ABT           ABT          N  \n",
      "32                N        NaN          ABTX          N  \n",
      "33                N        NaN          ABUS          N  \n",
      "34              NaN         AC            AC          N  \n",
      "35              NaN        ACA           ACA          N  \n",
      "36                N        NaN          ACAD          N  \n",
      "37                N        NaN          ACAM          N  \n",
      "38                N        NaN         ACAMU          N  \n",
      "39              NaN        ACB           ACB          N  \n",
      "40                N        NaN          ACBI          N  \n",
      "41              NaN        ACC           ACC          N  \n",
      "42              NaN       ACCO          ACCO          N  \n",
      "43              NaN       ACEL          ACEL          N  \n",
      "44                N        NaN          ACER          N  \n",
      "45              NaN       ACES          ACES          N  \n",
      "46                N        NaN          ACGL          N  \n",
      "47                N        NaN         ACGLO          N  \n",
      "48                N        NaN         ACGLP          N  \n",
      "49              NaN        ACH           ACH          N  \n"
     ]
    }
   ],
   "source": [
    "symbols_data = pd.read_csv('symbols_valid_meta.csv')\n",
    "print(symbols_data.head(50))"
   ]
  },
  {
   "cell_type": "markdown",
   "metadata": {},
   "source": [
    "## Data Cleaning"
   ]
  },
  {
   "cell_type": "markdown",
   "metadata": {},
   "source": [
    "DateTime Conversion"
   ]
  },
  {
   "cell_type": "code",
   "execution_count": 29,
   "metadata": {},
   "outputs": [
    {
     "name": "stdout",
     "output_type": "stream",
     "text": [
      "<class 'pandas.core.frame.DataFrame'>\n",
      "RangeIndex: 9909 entries, 0 to 9908\n",
      "Data columns (total 7 columns):\n",
      " #   Column     Non-Null Count  Dtype         \n",
      "---  ------     --------------  -----         \n",
      " 0   Date       9909 non-null   datetime64[ns]\n",
      " 1   Open       9909 non-null   float64       \n",
      " 2   High       9909 non-null   float64       \n",
      " 3   Low        9909 non-null   float64       \n",
      " 4   Close      9909 non-null   float64       \n",
      " 5   Adj Close  9909 non-null   float64       \n",
      " 6   Volume     9909 non-null   int64         \n",
      "dtypes: datetime64[ns](1), float64(5), int64(1)\n",
      "memory usage: 542.0 KB\n",
      "None\n"
     ]
    }
   ],
   "source": [
    "stock = pd.read_csv('stocks/aapl.csv')\n",
    "stock['Date'] = pd.to_datetime(stock['Date'])\n",
    "\n",
    "print(stock.info())"
   ]
  },
  {
   "cell_type": "markdown",
   "metadata": {},
   "source": [
    "Duplicate Check"
   ]
  },
  {
   "cell_type": "code",
   "execution_count": 24,
   "metadata": {},
   "outputs": [],
   "source": [
    "duplicates = stock['Date'].duplicated()"
   ]
  },
  {
   "cell_type": "markdown",
   "metadata": {},
   "source": [
    "Range Check"
   ]
  },
  {
   "cell_type": "code",
   "execution_count": 25,
   "metadata": {},
   "outputs": [],
   "source": [
    "out_of_range_data = stock[(stock['Date'] >= '2021') | (stock['Date'] <= '1980')]"
   ]
  },
  {
   "cell_type": "markdown",
   "metadata": {},
   "source": [
    "Completeness"
   ]
  },
  {
   "cell_type": "code",
   "execution_count": 26,
   "metadata": {},
   "outputs": [
    {
     "name": "stdout",
     "output_type": "stream",
     "text": [
      "Date   Open   High   Low    Close  Adj Close  Volume\n",
      "False  False  False  False  False  False      False     9909\n",
      "Name: count, dtype: int64\n"
     ]
    }
   ],
   "source": [
    "print(stock.isna().value_counts())"
   ]
  },
  {
   "cell_type": "markdown",
   "metadata": {},
   "source": [
    "### Visualization"
   ]
  },
  {
   "cell_type": "markdown",
   "metadata": {},
   "source": [
    "Linegraph"
   ]
  },
  {
   "cell_type": "code",
   "execution_count": 30,
   "metadata": {},
   "outputs": [
    {
     "data": {
      "image/png": "[encoded data removed]",
      "text/plain": [
       "<Figure size 640x480 with 1 Axes>"
      ]
     },
     "metadata": {},
     "output_type": "display_data"
    }
   ],
   "source": [
    "sns.lineplot(x = \"Date\", y = \"Close\", data = stock)\n",
    "plt.xticks(rotation=45)\n",
    "plt.show()"
   ]
  }
 ],
 "metadata": {
  "kernelspec": {
   "display_name": "Python 3",
   "language": "python",
   "name": "python3"
  },
  "language_info": {
   "codemirror_mode": {
    "name": "ipython",
    "version": 3
   },
   "file_extension": ".py",
   "mimetype": "text/x-python",
   "name": "python",
   "nbconvert_exporter": "python",
   "pygments_lexer": "ipython3",
   "version": "3.12.5"
  }
 },
 "nbformat": 4,
 "nbformat_minor": 2
}
